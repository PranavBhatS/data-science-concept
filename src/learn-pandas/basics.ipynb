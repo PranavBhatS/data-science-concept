{
 "cells": [
  {
   "cell_type": "code",
   "execution_count": null,
   "metadata": {},
   "outputs": [],
   "source": [
    "import pandas as pd"
   ]
  },
  {
   "cell_type": "code",
   "execution_count": null,
   "metadata": {},
   "outputs": [],
   "source": [
    "data = pd.read_csv(\"./../assets/csv/census_starter.csv\")\n",
    "dataframe = pd.DataFrame(data=data, columns=[\"pct_bb_2017\", \"pct_bb_2018\"])\n",
    "dataframe"
   ]
  },
  {
   "cell_type": "markdown",
   "metadata": {},
   "source": [
    "Create a new column using existing column"
   ]
  },
  {
   "cell_type": "code",
   "execution_count": null,
   "metadata": {},
   "outputs": [],
   "source": [
    "d = {\"col1\": [1, 2, 4], \"col2\": [3, 4, 4]}\n",
    "df = pd.DataFrame(data=d)\n",
    "df[\"bonus\"] = df[\"col2\"] * 2"
   ]
  },
  {
   "cell_type": "markdown",
   "metadata": {},
   "source": [
    "Find duplicates"
   ]
  },
  {
   "cell_type": "code",
   "execution_count": null,
   "metadata": {},
   "outputs": [],
   "source": [
    "df.drop_duplicates(subset=[\"bonus\"])"
   ]
  },
  {
   "cell_type": "markdown",
   "metadata": {},
   "source": [
    "drop missing data"
   ]
  },
  {
   "cell_type": "code",
   "execution_count": null,
   "metadata": {},
   "outputs": [],
   "source": [
    "data = pd.read_csv(\"./../assets/csv/NetFlix.csv\")\n",
    "df = pd.DataFrame(data=data)\n",
    "df.dropna(subset=[\"rating\"])"
   ]
  },
  {
   "cell_type": "markdown",
   "metadata": {},
   "source": [
    "Modify Columns"
   ]
  },
  {
   "cell_type": "code",
   "execution_count": null,
   "metadata": {},
   "outputs": [],
   "source": [
    "# df['duration'] =df['duration']*1000\n",
    "# df"
   ]
  },
  {
   "cell_type": "markdown",
   "metadata": {},
   "source": [
    "Modify column names"
   ]
  },
  {
   "cell_type": "code",
   "execution_count": null,
   "metadata": {},
   "outputs": [],
   "source": [
    "# df.rename(columns={'type':'typess'})\n",
    "# or\n",
    "# df.columns = ['id',etc]\n",
    "# df"
   ]
  },
  {
   "cell_type": "code",
   "execution_count": null,
   "metadata": {},
   "outputs": [],
   "source": [
    "#  Fill Missing Data\n",
    "\n",
    "# df['duration'].fillna(1)\n",
    "pd.pivot_table(\n",
    "    df, index=\"type\", columns=\"country\", values=\"release_year\", aggfunc=\"sum\"\n",
    ")"
   ]
  },
  {
   "cell_type": "markdown",
   "metadata": {},
   "source": [
    "+----------+---------+-----+--------+\n",
    "| name     | species | age | weight |\n",
    "+----------+---------+-----+--------+\n",
    "| Tatiana  | Snake   | 98  | 464    |\n",
    "| Khaled   | Giraffe | 50  | 41     |\n",
    "| Alex     | Leopard | 6   | 328    |\n",
    "| Jonathan | Monkey  | 45  | 463    |\n",
    "| Stefan   | Bear    | 100 | 50     |\n",
    "| Tommy    | Panda   | 26  | 349    |"
   ]
  },
  {
   "cell_type": "code",
   "execution_count": 108,
   "metadata": {},
   "outputs": [
    {
     "data": {
      "text/plain": [
       "False"
      ]
     },
     "execution_count": 108,
     "metadata": {},
     "output_type": "execute_result"
    }
   ],
   "source": [
    "# find heavy animal\n",
    "animalData = {\n",
    "    \"name\": [\"Tatiana\", \"Khaled\", \"Alex\", \"Jonathan\", \"Stefan\", \"Tommy\"],\n",
    "    \"species\": [\"snake\", \"Giraffe\", \"Leopard\", \"Monkey\", \"Bear\", \"Panda\"],\n",
    "    \"age\": [98, 50, 6, 45, 100, 26],\n",
    "    \"weight\": [464, 41, 328, 463, 50, 349],\n",
    "}\n",
    "\n",
    "df = pd.DataFrame(animalData)\n",
    "df['age'].empty\n",
    "# greater = df['weight'] > 100\n",
    "# df.sort_values(['weight'],ascending=[True]).loc[greater,['name']]"
   ]
  }
 ],
 "metadata": {
  "kernelspec": {
   "display_name": "dev",
   "language": "python",
   "name": "python3"
  },
  "language_info": {
   "codemirror_mode": {
    "name": "ipython",
    "version": 3
   },
   "file_extension": ".py",
   "mimetype": "text/x-python",
   "name": "python",
   "nbconvert_exporter": "python",
   "pygments_lexer": "ipython3",
   "version": "3.11.1"
  }
 },
 "nbformat": 4,
 "nbformat_minor": 2
}
