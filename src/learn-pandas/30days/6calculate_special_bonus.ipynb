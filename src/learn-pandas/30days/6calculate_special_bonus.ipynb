{
 "cells": [
  {
   "cell_type": "code",
   "execution_count": null,
   "metadata": {},
   "outputs": [],
   "source": [
    "import pandas as pd\n",
    "\n",
    "data = [\n",
    "    {\"employee_id\": 2, \"name\": \"Meir\", \"salary\": 3000},\n",
    "    {\"employee_id\": 3, \"name\": \"Michael\", \"salary\": 3800},\n",
    "    {\"employee_id\": 7, \"name\": \"Addilyn\", \"salary\": 7400},\n",
    "    {\"employee_id\": 8, \"name\": \"Juan\", \"salary\": 6100},\n",
    "    {\"employee_id\": 9, \"name\": \"Kannon\", \"salary\": 7700},\n",
    "]\n",
    "\n",
    "employees = pd.DataFrame(data)\n",
    "withMFilter = ~employees[\"name\"].str.startswith(\"M\") & employees[\"employee_id\"] % 2 != 0\n",
    "withM = employees.loc[withMFilter]\n",
    "dfc1 = withM.copy()\n",
    "dfc1[\"bonus\"] = dfc1[\"salary\"]\n",
    "\n",
    "withoutM = employees.loc[~withMFilter]\n",
    "dfc2 = withoutM.copy()\n",
    "dfc2[\"bonus\"] = 0\n",
    "pd.concat([dfc1, dfc2], ignore_index=True).loc[:, [\"employee_id\", \"bonus\"]].sort_values(\n",
    "    by=\"employee_id\", ascending=True\n",
    ")"
   ]
  }
 ],
 "metadata": {
  "kernelspec": {
   "display_name": "dev",
   "language": "python",
   "name": "python3"
  },
  "language_info": {
   "name": "python",
   "version": "3.11.1"
  }
 },
 "nbformat": 4,
 "nbformat_minor": 2
}
