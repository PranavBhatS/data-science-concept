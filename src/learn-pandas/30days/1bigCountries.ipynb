{
 "cells": [
  {
   "cell_type": "code",
   "execution_count": null,
   "metadata": {},
   "outputs": [],
   "source": [
    "import pandas as pd"
   ]
  },
  {
   "cell_type": "code",
   "execution_count": null,
   "metadata": {},
   "outputs": [],
   "source": [
    "world_data = [\n",
    "    {\n",
    "        \"name\": \"Afghanistan\",\n",
    "        \"continent\": \"Asia\",\n",
    "        \"area\": 652230,\n",
    "        \"population\": 25500100,\n",
    "        \"gdp\": 20343000000,\n",
    "    },\n",
    "    {\n",
    "        \"name\": \"Albania\",\n",
    "        \"continent\": \"Europe\",\n",
    "        \"area\": 28748,\n",
    "        \"population\": 2831741,\n",
    "        \"gdp\": 12960000000,\n",
    "    },\n",
    "    {\n",
    "        \"name\": \"Algeria\",\n",
    "        \"continent\": \"Africa\",\n",
    "        \"area\": 2381741,\n",
    "        \"population\": 37100000,\n",
    "        \"gdp\": 188681000000,\n",
    "    },\n",
    "    {\n",
    "        \"name\": \"Andorra\",\n",
    "        \"continent\": \"Europe\",\n",
    "        \"area\": 468,\n",
    "        \"population\": 78115,\n",
    "        \"gdp\": 3712000000,\n",
    "    },\n",
    "    {\n",
    "        \"name\": \"Angola\",\n",
    "        \"continent\": \"Africa\",\n",
    "        \"area\": 1246700,\n",
    "        \"population\": 20609294,\n",
    "        \"gdp\": 100990000000,\n",
    "    },\n",
    "]\n",
    "\n",
    "df = pd.DataFrame(world_data)\n",
    "df\n"
   ]
  },
  {
   "cell_type": "code",
   "execution_count": null,
   "metadata": {},
   "outputs": [],
   "source": [
    "world = df\n",
    "filter = (world[\"area\"] > 3000000) | (world[\"population\"] > 25000000)\n",
    "filter\n",
    "world.loc[filter,['name','population','area']]"
   ]
  }
 ],
 "metadata": {
  "kernelspec": {
   "display_name": "dev",
   "language": "python",
   "name": "python3"
  },
  "language_info": {
   "codemirror_mode": {
    "name": "ipython",
    "version": 3
   },
   "file_extension": ".py",
   "mimetype": "text/x-python",
   "name": "python",
   "nbconvert_exporter": "python",
   "pygments_lexer": "ipython3",
   "version": "3.11.1"
  }
 },
 "nbformat": 4,
 "nbformat_minor": 2
}
