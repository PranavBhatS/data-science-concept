{
 "cells": [
  {
   "cell_type": "code",
   "execution_count": null,
   "metadata": {},
   "outputs": [],
   "source": [
    "import pandas as pd\n",
    "\n",
    "world_table_data = [\n",
    "    {\"article_id\": 1, \"author_id\": 3, \"viewer_id\": 5, \"view_date\": \"2019-08-01\"},\n",
    "    {\"article_id\": 1, \"author_id\": 3, \"viewer_id\": 6, \"view_date\": \"2019-08-02\"},\n",
    "    {\"article_id\": 2, \"author_id\": 7, \"viewer_id\": 7, \"view_date\": \"2019-08-01\"},\n",
    "    {\"article_id\": 2, \"author_id\": 7, \"viewer_id\": 6, \"view_date\": \"2019-08-02\"},\n",
    "    {\"article_id\": 4, \"author_id\": 7, \"viewer_id\": 1, \"view_date\": \"2019-07-22\"},\n",
    "    {\"article_id\": 3, \"author_id\": 4, \"viewer_id\": 4, \"view_date\": \"2019-07-21\"},\n",
    "    {\"article_id\": 3, \"author_id\": 4, \"viewer_id\": 4, \"view_date\": \"2019-07-21\"}\n",
    "]\n",
    "\n",
    "views = pd.DataFrame(world_table_data)\n",
    "views\n"
   ]
  },
  {
   "cell_type": "code",
   "execution_count": null,
   "metadata": {},
   "outputs": [],
   "source": [
    "filter = views['author_id'] == views['viewer_id']\n",
    "df = views.loc[filter,['author_id']].drop_duplicates().rename(columns={'author_id':'id'}).sort_values(by=\"id\",ascending=False)\n",
    "df\n"
   ]
  }
 ],
 "metadata": {
  "kernelspec": {
   "display_name": "dev",
   "language": "python",
   "name": "python3"
  },
  "language_info": {
   "codemirror_mode": {
    "name": "ipython",
    "version": 3
   },
   "file_extension": ".py",
   "mimetype": "text/x-python",
   "name": "python",
   "nbconvert_exporter": "python",
   "pygments_lexer": "ipython3",
   "version": "3.11.1"
  }
 },
 "nbformat": 4,
 "nbformat_minor": 2
}
