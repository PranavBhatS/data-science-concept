{
 "cells": [
  {
   "cell_type": "code",
   "execution_count": null,
   "metadata": {},
   "outputs": [],
   "source": [
    "# \n",
    "import pandas as pd\n",
    "\n",
    "data = [\n",
    "    {\"user_id\": 1, \"name\": \"Winston\", \"mail\": \"winston@leetcode.com\"},\n",
    "    {\"user_id\": 2, \"name\": \"Jonathan\", \"mail\": \"jonathanisgreat\"},\n",
    "    {\"user_id\": 3, \"name\": \"Annabelle\", \"mail\": \"bella-@leetcode.com\"},\n",
    "    {\"user_id\": 4, \"name\": \"Sally\", \"mail\": \"sally.come@leetcode.com\"},\n",
    "    {\"user_id\": 5, \"name\": \"Marwan\", \"mail\": \"quarz#2020@leetcode.com\"},\n",
    "    {\"user_id\": 6, \"name\": \"David\", \"mail\": \"david69@gmail.com\"},\n",
    "    {\"user_id\": 7, \"name\": \"Shapiro\", \"mail\": \".shapo@leetcode.com\"}\n",
    "]\n",
    "\n",
    "users = pd.DataFrame(data)\n",
    "reg = '^[a-zA-Z][a-zA-Z0-9_.-]*@leetcode\\.com$'\n",
    "filter = users['mail'].str.contains(reg, case=False)\n",
    "users.loc[filter]"
   ]
  }
 ],
 "metadata": {
  "kernelspec": {
   "display_name": "dev",
   "language": "python",
   "name": "python3"
  },
  "language_info": {
   "codemirror_mode": {
    "name": "ipython",
    "version": 3
   },
   "file_extension": ".py",
   "mimetype": "text/x-python",
   "name": "python",
   "nbconvert_exporter": "python",
   "pygments_lexer": "ipython3",
   "version": "3.11.1"
  }
 },
 "nbformat": 4,
 "nbformat_minor": 2
}
