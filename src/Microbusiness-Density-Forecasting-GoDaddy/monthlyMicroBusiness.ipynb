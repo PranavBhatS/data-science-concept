{
 "cells": [
  {
   "cell_type": "code",
   "execution_count": null,
   "metadata": {},
   "outputs": [],
   "source": [
    "import pandas as pd"
   ]
  },
  {
   "cell_type": "code",
   "execution_count": null,
   "metadata": {},
   "outputs": [],
   "source": [
    "data = pd.read_csv(\"./../assets/csv/census_starter.csv\")\n",
    "data.describe()\n",
    "\n",
    "nonZeroVals = []\n",
    "for i in data.select_dtypes(include=\"number\").columns.values:\n",
    "    if data[i].isna().sum() > 0:\n",
    "        nonZeroVals.append(i)\n",
    "nonZeroVals"
   ]
  },
  {
   "cell_type": "code",
   "execution_count": null,
   "metadata": {},
   "outputs": [],
   "source": [
    "for i in nonZeroVals:\n",
    "    skewedVal = data[i].skew()\n",
    "    print(i + \" => \" + str(skewedVal))\n",
    "    mean, median = data[i].mean(), data[i].median()\n",
    "    if skewedVal == 0:\n",
    "        print(\"Zero\")\n",
    "        data[i] = data[i].fillna(mean)\n",
    "        # if skew 0 => mean & median (mean = median )\n",
    "    elif skewedVal < 0:\n",
    "        print(\"-ve\")\n",
    "        data[i] = data[i].fillna(median)\n",
    "        # if skew -ve => mean & median (mean < median )\n",
    "    else:\n",
    "        print(\"+ve\")\n",
    "        data[i] = data[i].fillna(mean)\n",
    "        # if skew +ve => mean & median (mean > median )\n",
    "    print(\"after skewed=> \"+str(data[i].isna().sum()))\n",
    "\n",
    "    print(mean,median)\n",
    "    data\n"
   ]
  },
  {
   "cell_type": "code",
   "execution_count": null,
   "metadata": {},
   "outputs": [],
   "source": [
    "nonZeroVals = []\n",
    "for i in data.select_dtypes(include=\"number\").columns.values:\n",
    "    if data[i].isna().sum() > 0:\n",
    "        nonZeroVals.append(i)\n",
    "nonZeroVals\n",
    "data.to_csv(\"temp.csv\")"
   ]
  }
 ],
 "metadata": {
  "kernelspec": {
   "display_name": "dev",
   "language": "python",
   "name": "python3"
  },
  "language_info": {
   "codemirror_mode": {
    "name": "ipython",
    "version": 3
   },
   "file_extension": ".py",
   "mimetype": "text/x-python",
   "name": "python",
   "nbconvert_exporter": "python",
   "pygments_lexer": "ipython3",
   "version": "3.11.1"
  }
 },
 "nbformat": 4,
 "nbformat_minor": 2
}
