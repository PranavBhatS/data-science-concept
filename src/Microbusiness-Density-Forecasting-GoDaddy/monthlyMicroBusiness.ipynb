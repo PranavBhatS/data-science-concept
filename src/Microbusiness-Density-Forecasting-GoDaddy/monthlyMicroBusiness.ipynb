{
 "cells": [
  {
   "cell_type": "code",
   "execution_count": 2,
   "metadata": {},
   "outputs": [],
   "source": [
    "import pandas as pd"
   ]
  },
  {
   "cell_type": "code",
   "execution_count": 36,
   "metadata": {},
   "outputs": [
    {
     "data": {
      "text/plain": [
       "['pct_bb_2020',\n",
       " 'pct_bb_2021',\n",
       " 'pct_college_2020',\n",
       " 'pct_college_2021',\n",
       " 'pct_foreign_born_2020',\n",
       " 'pct_foreign_born_2021',\n",
       " 'pct_it_workers_2018',\n",
       " 'pct_it_workers_2020',\n",
       " 'pct_it_workers_2021',\n",
       " 'median_hh_inc_2018',\n",
       " 'median_hh_inc_2020',\n",
       " 'median_hh_inc_2021']"
      ]
     },
     "execution_count": 36,
     "metadata": {},
     "output_type": "execute_result"
    }
   ],
   "source": [
    "data = pd.read_csv(\"./../assets/csv/census_starter.csv\")\n",
    "data.describe()\n",
    "\n",
    "nonZeroVals = []\n",
    "for i in data.select_dtypes(include=\"number\").columns.values:\n",
    "    if data[i].isna().sum() > 0:\n",
    "        nonZeroVals.append(i)\n",
    "nonZeroVals"
   ]
  },
  {
   "cell_type": "code",
   "execution_count": 40,
   "metadata": {},
   "outputs": [
    {
     "name": "stdout",
     "output_type": "stream",
     "text": [
      "pct_bb_2020 => -0.9003812104927077\n",
      "-ve\n",
      "after skewed=> 0\n",
      "78.5436346276257 79.6\n",
      "pct_bb_2021 => -1.0175825631376083\n",
      "-ve\n",
      "after skewed=> 0\n",
      "80.5390958293537 81.7\n",
      "pct_college_2020 => 0.9560226168917233\n",
      "+ve\n",
      "after skewed=> 0\n",
      "14.631327602674308 13.6\n",
      "pct_college_2021 => 0.9326433056794277\n",
      "+ve\n",
      "after skewed=> 0\n",
      "14.851225724291625 13.8\n",
      "pct_foreign_born_2020 => 2.8875606751137677\n",
      "+ve\n",
      "after skewed=> 0\n",
      "4.7485195797516715 2.8\n",
      "pct_foreign_born_2021 => 2.8974273990911295\n",
      "+ve\n",
      "after skewed=> 0\n",
      "4.743680356574339 2.7\n",
      "pct_it_workers_2018 => 1.9796674445642057\n",
      "+ve\n",
      "after skewed=> 0\n",
      "1.3821712830308817 1.3\n",
      "pct_it_workers_2020 => 2.537284050462771\n",
      "+ve\n",
      "after skewed=> 0\n",
      "1.3092645654250237 1.2\n",
      "pct_it_workers_2021 => 2.4727246022854947\n",
      "+ve\n",
      "after skewed=> 0\n",
      "1.2726838586437441 1.1\n",
      "median_hh_inc_2018 => 1.2936085691976953\n",
      "+ve\n",
      "after skewed=> 0\n",
      "51583.17542184018 49888.0\n",
      "median_hh_inc_2020 => 1.3275979046365727\n",
      "+ve\n",
      "after skewed=> 0\n",
      "55012.44331210191 52842.0\n",
      "median_hh_inc_2021 => 1.325287188048026\n",
      "+ve\n",
      "after skewed=> 0\n",
      "58223.33949044586 55907.0\n"
     ]
    }
   ],
   "source": [
    "for i in nonZeroVals:\n",
    "    skewedVal = data[i].skew()\n",
    "    print(i + \" => \" + str(skewedVal))\n",
    "    mean, median = data[i].mean(), data[i].median()\n",
    "    if skewedVal == 0:\n",
    "        print(\"Zero\")\n",
    "        data[i] = data[i].fillna(mean)\n",
    "        # if skew 0 => mean & median (mean = median )\n",
    "    elif skewedVal < 0:\n",
    "        print(\"-ve\")\n",
    "        data[i] = data[i].fillna(median)\n",
    "        # if skew -ve => mean & median (mean < median )\n",
    "    else:\n",
    "        print(\"+ve\")\n",
    "        data[i] = data[i].fillna(mean)\n",
    "        # if skew +ve => mean & median (mean > median )\n",
    "    print(\"after skewed=> \"+str(data[i].isna().sum()))\n",
    "\n",
    "    print(mean,median)\n",
    "    data\n"
   ]
  },
  {
   "cell_type": "code",
   "execution_count": 42,
   "metadata": {},
   "outputs": [],
   "source": [
    "nonZeroVals = []\n",
    "for i in data.select_dtypes(include=\"number\").columns.values:\n",
    "    if data[i].isna().sum() > 0:\n",
    "        nonZeroVals.append(i)\n",
    "nonZeroVals\n",
    "data.to_csv(\"temp.csv\")"
   ]
  }
 ],
 "metadata": {
  "kernelspec": {
   "display_name": "dev",
   "language": "python",
   "name": "python3"
  },
  "language_info": {
   "codemirror_mode": {
    "name": "ipython",
    "version": 3
   },
   "file_extension": ".py",
   "mimetype": "text/x-python",
   "name": "python",
   "nbconvert_exporter": "python",
   "pygments_lexer": "ipython3",
   "version": "3.11.1"
  }
 },
 "nbformat": 4,
 "nbformat_minor": 2
}
